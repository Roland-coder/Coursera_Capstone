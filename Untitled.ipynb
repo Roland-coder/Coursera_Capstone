{
 "cells": [
  {
   "cell_type": "code",
   "execution_count": 64,
   "metadata": {},
   "outputs": [
    {
     "data": {
      "text/plain": [
       "False"
      ]
     },
     "execution_count": 64,
     "metadata": {},
     "output_type": "execute_result"
    }
   ],
   "source": [
    "# This function checks if a number is a happy number. A happy number is a number that \n",
    "'''\n",
    "A happy number is a number defined by the following process: Starting with any positive integer, replace the number by the sum of the squares of its digits, and repeat the process until the number equals 1 (where it will stay), or it loops endlessly in a cycle which does not include 1. Those numbers for which this process ends in 1 are happy numbers.\n",
    "\n",
    "Return True if n is a happy number, and False if not.\n",
    "\n",
    "Example: \n",
    "\n",
    "Input: 19\n",
    "Output: true\n",
    "Explanation: \n",
    "12 + 92 = 82\n",
    "82 + 22 = 68\n",
    "62 + 82 = 100\n",
    "12 + 02 + 02 = 1\n",
    "'''\n",
    "\n",
    "def isHappy(n):\n",
    "        # Convert interger to list of string digits\n",
    "        lst = list(str(n))\n",
    "        # Use map and lambda function to calculate sum of the square of each digit converted into an integer\n",
    "        # and stored in a list\n",
    "        sumli = sum(list(map(lambda x: pow(int(x), 2), lst))) \n",
    "        # store sum to a list\n",
    "        lst_sum = [sumli]\n",
    "        while sumli != 1:\n",
    "            sumli = sum(list(map(lambda x: pow(int(x), 2), list(str(sumli)))))\n",
    "            if sumli in lst_sum:\n",
    "                return False\n",
    "            lst_sum.append(sumli)\n",
    "        \n",
    "        return True\n",
    "\n",
    "\n",
    "isHappy(11)\n",
    "            "
   ]
  },
  {
   "cell_type": "code",
   "execution_count": 56,
   "metadata": {},
   "outputs": [
    {
     "data": {
      "text/plain": [
       "[5.5, 8.0, 9.75, 11.2, 12.5, 13.714285714285714, 14.875, 16.0, 171.0, 25.0]"
      ]
     },
     "execution_count": 56,
     "metadata": {},
     "output_type": "execute_result"
    }
   ],
   "source": [
    "n = [1, 2, 3, 4, 5, 6, 7, 8, 9, 10]\n",
    "m = [11, 12, 13, 14, 15, 16, 17, 18, 19, 20]\n",
    "b = [2, 3, 4, 5, 6, 7, 8, 9, 1, 8]\n",
    "lst = list(map(lambda x, y, z: (x * y )/ z,  n,m, b))\n",
    "lst"
   ]
  },
  {
   "cell_type": "code",
   "execution_count": 53,
   "metadata": {},
   "outputs": [
    {
     "name": "stdout",
     "output_type": "stream",
     "text": [
      "[102.56, 97.7, 99.14, 100.03999999999999]\n"
     ]
    }
   ],
   "source": [
    "Celsius = [39.2, 36.5, 37.3, 37.8]\n",
    "Fahrenheit = list(map(lambda x: (float(9)/5)*x + 32, Celsius))\n",
    "print(Fahrenheit)"
   ]
  },
  {
   "cell_type": "code",
   "execution_count": 70,
   "metadata": {},
   "outputs": [
    {
     "data": {
      "text/plain": [
       "[1, 3, 5, 7, 9, 11]"
      ]
     },
     "execution_count": 70,
     "metadata": {},
     "output_type": "execute_result"
    }
   ],
   "source": [
    "n = [0, 1, 2, 3, 4, 5, 6, 7, 8, 9, 10, 11]\n",
    "mod = list(filter(lambda x: x % 2, n))\n",
    "mod"
   ]
  },
  {
   "cell_type": "code",
   "execution_count": 81,
   "metadata": {},
   "outputs": [
    {
     "name": "stdout",
     "output_type": "stream",
     "text": [
      "5050\n"
     ]
    },
    {
     "data": {
      "text/plain": [
       "68"
      ]
     },
     "execution_count": 81,
     "metadata": {},
     "output_type": "execute_result"
    }
   ],
   "source": [
    "from functools import reduce\n",
    "n = [1, 2, 3, 4, 5, 68, 7, 8, 9, 10, 34, 26]\n",
    "num = reduce(lambda x, y: x+ y, range(0, 101))\n",
    "man = reduce(lambda a, b: a if a >b else b, n)\n",
    "print(num)\n",
    "man"
   ]
  },
  {
   "cell_type": "code",
   "execution_count": 85,
   "metadata": {},
   "outputs": [
    {
     "data": {
      "text/plain": [
       "[(0, 0), (1, 1), (2, 2), (3, 3)]"
      ]
     },
     "execution_count": 85,
     "metadata": {},
     "output_type": "execute_result"
    }
   ],
   "source": [
    "n = [0, 1, 2, 3, 3.5, 4, 5] \n",
    "# 68, 7, 8, 9, 10, 34, 26]\n",
    "\n",
    "lst = [(i, m) for i , m in enumerate(n) if i == m]\n",
    "lst"
   ]
  },
  {
   "cell_type": "code",
   "execution_count": null,
   "metadata": {},
   "outputs": [],
   "source": []
  }
 ],
 "metadata": {
  "kernelspec": {
   "display_name": "Python 3",
   "language": "python",
   "name": "python3"
  },
  "language_info": {
   "codemirror_mode": {
    "name": "ipython",
    "version": 3
   },
   "file_extension": ".py",
   "mimetype": "text/x-python",
   "name": "python",
   "nbconvert_exporter": "python",
   "pygments_lexer": "ipython3",
   "version": "3.7.4"
  }
 },
 "nbformat": 4,
 "nbformat_minor": 4
}
