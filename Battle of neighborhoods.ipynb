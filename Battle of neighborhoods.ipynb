{
 "cells": [
  {
   "cell_type": "markdown",
   "metadata": {},
   "source": [
    "# Coursera Capstone Project (Battle Of Neighborhoods)"
   ]
  },
  {
   "cell_type": "markdown",
   "metadata": {},
   "source": [
    "## Applied Data science Capstone by Coursera/IBM"
   ]
  },
  {
   "cell_type": "markdown",
   "metadata": {},
   "source": [
    "### Table of contents\n",
    "\n",
    "* [Introduction: Business Problem](#introduction)\n",
    "* [Data](#data)\n",
    "* [Methodology](#methodology)\n",
    "* [Analysis](#analysis)\n",
    "* [Results and Discussion](#results)\n",
    "* [Conclusion](#conclusion)"
   ]
  },
  {
   "cell_type": "markdown",
   "metadata": {},
   "source": [
    "\n",
    "\n",
    "## Introduction: Business Problem <a name=#introduction></a>"
   ]
  },
  {
   "cell_type": "markdown",
   "metadata": {},
   "source": [
    "In this project I will be exploring the location data for <b>Toronto, Canada</b> to come up with possible areas that can be used to open an <b>African restaurant</b> This can be used by any stakeholders who may be looking for an optimal location to open an African restaurant.  We are going to focus on areas that <b>do not have any African restaurant</b> and as well as areas that are <b>not crowded with any restaurants yet</b>, also we will also look at areas that have a dense population of Africans or black citizens \n",
    "    \n",
    "For this we will be using our analytics knowledge to come up with few possible locations that we will be suggesting for the stakeholders involved"
   ]
  },
  {
   "cell_type": "markdown",
   "metadata": {},
   "source": [
    "## Data <a name=#data></a>"
   ]
  },
  {
   "cell_type": "markdown",
   "metadata": {},
   "source": [
    "For this project we will focus on using data that is related to the conditions that we have mentioned above like\n",
    "\n",
    "* number African restaurants in each neighborhood\n",
    "* number of black or African citizens living in the neighborhoods \n",
    "* number of restaurants in each neighborhood\n",
    "\n",
    "The sources we will be using are:\n",
    " Foursquare api in order to get the neighborhoods around Toronto, the number of restaurants and the type of restaurants located in them\n",
    " We will also use the <b>Google's geopy </b> api in order to get the location data of Toronto city like the longitude and latitude \n"
   ]
  },
  {
   "cell_type": "code",
   "execution_count": null,
   "metadata": {},
   "outputs": [],
   "source": []
  }
 ],
 "metadata": {
  "kernelspec": {
   "display_name": "Python 3",
   "language": "python",
   "name": "python3"
  },
  "language_info": {
   "codemirror_mode": {
    "name": "ipython",
    "version": 3
   },
   "file_extension": ".py",
   "mimetype": "text/x-python",
   "name": "python",
   "nbconvert_exporter": "python",
   "pygments_lexer": "ipython3",
   "version": "3.7.4"
  }
 },
 "nbformat": 4,
 "nbformat_minor": 4
}
