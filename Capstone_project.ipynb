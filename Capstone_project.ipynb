{
 "cells": [
  {
   "cell_type": "markdown",
   "metadata": {},
   "source": [
    "# This is a notebook for my final capstone project for the IBM Data science professional certificate"
   ]
  },
  {
   "cell_type": "code",
   "execution_count": 1,
   "metadata": {},
   "outputs": [],
   "source": [
    "import pandas as pd\n",
    "import numpy as np"
   ]
  },
  {
   "cell_type": "code",
   "execution_count": 2,
   "metadata": {},
   "outputs": [
    {
     "name": "stdout",
     "output_type": "stream",
     "text": [
      "Hello Capstone Project Course\n"
     ]
    }
   ],
   "source": [
    "print(\"Hello Capstone Project Course\")"
   ]
  },
  {
   "cell_type": "code",
   "execution_count": 3,
   "metadata": {},
   "outputs": [
    {
     "name": "stdout",
     "output_type": "stream",
     "text": [
      "Requirement already satisfied: BeautifulSoup4 in c:\\programdata\\anaconda3\\lib\\site-packages (4.8.0)\n",
      "Requirement already satisfied: soupsieve>=1.2 in c:\\programdata\\anaconda3\\lib\\site-packages (from BeautifulSoup4) (1.9.3)\n",
      "Note: you may need to restart the kernel to use updated packages.\n"
     ]
    }
   ],
   "source": [
    "pip install BeautifulSoup4"
   ]
  },
  {
   "cell_type": "code",
   "execution_count": 4,
   "metadata": {},
   "outputs": [],
   "source": [
    "from urllib.request import urlopen\n",
    "from bs4 import BeautifulSoup\n",
    "import requests"
   ]
  },
  {
   "cell_type": "code",
   "execution_count": 5,
   "metadata": {},
   "outputs": [],
   "source": [
    "urlwiki = 'https://en.wikipedia.org/wiki/List_of_postal_codes_of_Canada:_M'"
   ]
  },
  {
   "cell_type": "code",
   "execution_count": 6,
   "metadata": {},
   "outputs": [],
   "source": [
    "# page = urlopen(urlwiki)\n",
    "page = requests.get(urlwiki)\n",
    "html = page.text\n",
    "soup = BeautifulSoup(html)"
   ]
  },
  {
   "cell_type": "code",
   "execution_count": 7,
   "metadata": {},
   "outputs": [],
   "source": [
    "table = soup.find_all(\"table\", { \"class\" : \"wikitable sortable\" })\n",
    "# rows = table.find_all('tr')\n",
    "\n",
    "#     try:\n",
    "#         rows = table_body.find_all('tr')\n",
    "#         for tr in rows:\n",
    "#             cols = tr.find_all('td')\n",
    "#             for td in cols:\n",
    "#                 print(td.text)\n",
    "#     except:\n",
    "#         print(\"no tbody\")"
   ]
  },
  {
   "cell_type": "code",
   "execution_count": 8,
   "metadata": {},
   "outputs": [],
   "source": [
    "for row in table:\n",
    "        col = row.find_all('tr')"
   ]
  },
  {
   "cell_type": "code",
   "execution_count": 9,
   "metadata": {},
   "outputs": [],
   "source": [
    "l = []\n",
    "for tr in col:\n",
    "    td = tr.find_all('td')\n",
    "    row = [tr.text for tr in td]\n",
    "    l.append(row)\n",
    "df = pd.DataFrame(l, columns=[\"PostalCode\", \"Borough\", \"Neighborhood\"])"
   ]
  },
  {
   "cell_type": "code",
   "execution_count": 10,
   "metadata": {},
   "outputs": [
    {
     "data": {
      "text/html": [
       "<div>\n",
       "<style scoped>\n",
       "    .dataframe tbody tr th:only-of-type {\n",
       "        vertical-align: middle;\n",
       "    }\n",
       "\n",
       "    .dataframe tbody tr th {\n",
       "        vertical-align: top;\n",
       "    }\n",
       "\n",
       "    .dataframe thead th {\n",
       "        text-align: right;\n",
       "    }\n",
       "</style>\n",
       "<table border=\"1\" class=\"dataframe\">\n",
       "  <thead>\n",
       "    <tr style=\"text-align: right;\">\n",
       "      <th></th>\n",
       "      <th>PostalCode</th>\n",
       "      <th>Borough</th>\n",
       "      <th>Neighborhood</th>\n",
       "    </tr>\n",
       "  </thead>\n",
       "  <tbody>\n",
       "    <tr>\n",
       "      <td>0</td>\n",
       "      <td>None</td>\n",
       "      <td>None</td>\n",
       "      <td>None</td>\n",
       "    </tr>\n",
       "    <tr>\n",
       "      <td>1</td>\n",
       "      <td>M1A\\n</td>\n",
       "      <td>Not assigned\\n</td>\n",
       "      <td>Not assigned\\n</td>\n",
       "    </tr>\n",
       "    <tr>\n",
       "      <td>2</td>\n",
       "      <td>M2A\\n</td>\n",
       "      <td>Not assigned\\n</td>\n",
       "      <td>Not assigned\\n</td>\n",
       "    </tr>\n",
       "    <tr>\n",
       "      <td>3</td>\n",
       "      <td>M3A\\n</td>\n",
       "      <td>North York\\n</td>\n",
       "      <td>Parkwoods\\n</td>\n",
       "    </tr>\n",
       "    <tr>\n",
       "      <td>4</td>\n",
       "      <td>M4A\\n</td>\n",
       "      <td>North York\\n</td>\n",
       "      <td>Victoria Village\\n</td>\n",
       "    </tr>\n",
       "  </tbody>\n",
       "</table>\n",
       "</div>"
      ],
      "text/plain": [
       "  PostalCode         Borough        Neighborhood\n",
       "0       None            None                None\n",
       "1      M1A\\n  Not assigned\\n      Not assigned\\n\n",
       "2      M2A\\n  Not assigned\\n      Not assigned\\n\n",
       "3      M3A\\n    North York\\n         Parkwoods\\n\n",
       "4      M4A\\n    North York\\n  Victoria Village\\n"
      ]
     },
     "execution_count": 10,
     "metadata": {},
     "output_type": "execute_result"
    }
   ],
   "source": [
    "df.head()"
   ]
  },
  {
   "cell_type": "code",
   "execution_count": 11,
   "metadata": {},
   "outputs": [
    {
     "data": {
      "text/plain": [
       "181"
      ]
     },
     "execution_count": 11,
     "metadata": {},
     "output_type": "execute_result"
    }
   ],
   "source": [
    "df.shape[0]"
   ]
  },
  {
   "cell_type": "code",
   "execution_count": 12,
   "metadata": {},
   "outputs": [],
   "source": [
    "df = df.drop(index=0)"
   ]
  },
  {
   "cell_type": "code",
   "execution_count": 13,
   "metadata": {},
   "outputs": [
    {
     "data": {
      "text/plain": [
       "103"
      ]
     },
     "execution_count": 13,
     "metadata": {},
     "output_type": "execute_result"
    }
   ],
   "source": [
    "df = df[df.Borough != 'Not assigned\\n']\n",
    "df.shape[0]"
   ]
  },
  {
   "cell_type": "code",
   "execution_count": 14,
   "metadata": {},
   "outputs": [
    {
     "data": {
      "text/html": [
       "<div>\n",
       "<style scoped>\n",
       "    .dataframe tbody tr th:only-of-type {\n",
       "        vertical-align: middle;\n",
       "    }\n",
       "\n",
       "    .dataframe tbody tr th {\n",
       "        vertical-align: top;\n",
       "    }\n",
       "\n",
       "    .dataframe thead th {\n",
       "        text-align: right;\n",
       "    }\n",
       "</style>\n",
       "<table border=\"1\" class=\"dataframe\">\n",
       "  <thead>\n",
       "    <tr style=\"text-align: right;\">\n",
       "      <th></th>\n",
       "      <th>PostalCode</th>\n",
       "      <th>Borough</th>\n",
       "      <th>Neighborhood</th>\n",
       "    </tr>\n",
       "  </thead>\n",
       "  <tbody>\n",
       "    <tr>\n",
       "      <td>3</td>\n",
       "      <td>M3A\\n</td>\n",
       "      <td>North York\\n</td>\n",
       "      <td>Parkwoods\\n</td>\n",
       "    </tr>\n",
       "    <tr>\n",
       "      <td>4</td>\n",
       "      <td>M4A\\n</td>\n",
       "      <td>North York\\n</td>\n",
       "      <td>Victoria Village\\n</td>\n",
       "    </tr>\n",
       "    <tr>\n",
       "      <td>5</td>\n",
       "      <td>M5A\\n</td>\n",
       "      <td>Downtown Toronto\\n</td>\n",
       "      <td>Regent Park, Harbourfront\\n</td>\n",
       "    </tr>\n",
       "    <tr>\n",
       "      <td>6</td>\n",
       "      <td>M6A\\n</td>\n",
       "      <td>North York\\n</td>\n",
       "      <td>Lawrence Manor, Lawrence Heights\\n</td>\n",
       "    </tr>\n",
       "    <tr>\n",
       "      <td>7</td>\n",
       "      <td>M7A\\n</td>\n",
       "      <td>Downtown Toronto\\n</td>\n",
       "      <td>Queen's Park, Ontario Provincial Government\\n</td>\n",
       "    </tr>\n",
       "  </tbody>\n",
       "</table>\n",
       "</div>"
      ],
      "text/plain": [
       "  PostalCode             Borough  \\\n",
       "3      M3A\\n        North York\\n   \n",
       "4      M4A\\n        North York\\n   \n",
       "5      M5A\\n  Downtown Toronto\\n   \n",
       "6      M6A\\n        North York\\n   \n",
       "7      M7A\\n  Downtown Toronto\\n   \n",
       "\n",
       "                                    Neighborhood  \n",
       "3                                    Parkwoods\\n  \n",
       "4                             Victoria Village\\n  \n",
       "5                    Regent Park, Harbourfront\\n  \n",
       "6             Lawrence Manor, Lawrence Heights\\n  \n",
       "7  Queen's Park, Ontario Provincial Government\\n  "
      ]
     },
     "execution_count": 14,
     "metadata": {},
     "output_type": "execute_result"
    }
   ],
   "source": [
    "df.head()"
   ]
  },
  {
   "cell_type": "code",
   "execution_count": 15,
   "metadata": {},
   "outputs": [],
   "source": [
    "df_new = df\n",
    "df_new['PostalCode'] = df_new['PostalCode'].str.replace(r'\\n', '')"
   ]
  },
  {
   "cell_type": "code",
   "execution_count": 16,
   "metadata": {},
   "outputs": [
    {
     "data": {
      "text/html": [
       "<div>\n",
       "<style scoped>\n",
       "    .dataframe tbody tr th:only-of-type {\n",
       "        vertical-align: middle;\n",
       "    }\n",
       "\n",
       "    .dataframe tbody tr th {\n",
       "        vertical-align: top;\n",
       "    }\n",
       "\n",
       "    .dataframe thead th {\n",
       "        text-align: right;\n",
       "    }\n",
       "</style>\n",
       "<table border=\"1\" class=\"dataframe\">\n",
       "  <thead>\n",
       "    <tr style=\"text-align: right;\">\n",
       "      <th></th>\n",
       "      <th>PostalCode</th>\n",
       "      <th>Borough</th>\n",
       "      <th>Neighborhood</th>\n",
       "    </tr>\n",
       "  </thead>\n",
       "  <tbody>\n",
       "    <tr>\n",
       "      <td>3</td>\n",
       "      <td>M3A</td>\n",
       "      <td>North York\\n</td>\n",
       "      <td>Parkwoods\\n</td>\n",
       "    </tr>\n",
       "    <tr>\n",
       "      <td>4</td>\n",
       "      <td>M4A</td>\n",
       "      <td>North York\\n</td>\n",
       "      <td>Victoria Village\\n</td>\n",
       "    </tr>\n",
       "    <tr>\n",
       "      <td>5</td>\n",
       "      <td>M5A</td>\n",
       "      <td>Downtown Toronto\\n</td>\n",
       "      <td>Regent Park, Harbourfront\\n</td>\n",
       "    </tr>\n",
       "    <tr>\n",
       "      <td>6</td>\n",
       "      <td>M6A</td>\n",
       "      <td>North York\\n</td>\n",
       "      <td>Lawrence Manor, Lawrence Heights\\n</td>\n",
       "    </tr>\n",
       "    <tr>\n",
       "      <td>7</td>\n",
       "      <td>M7A</td>\n",
       "      <td>Downtown Toronto\\n</td>\n",
       "      <td>Queen's Park, Ontario Provincial Government\\n</td>\n",
       "    </tr>\n",
       "  </tbody>\n",
       "</table>\n",
       "</div>"
      ],
      "text/plain": [
       "  PostalCode             Borough  \\\n",
       "3        M3A        North York\\n   \n",
       "4        M4A        North York\\n   \n",
       "5        M5A  Downtown Toronto\\n   \n",
       "6        M6A        North York\\n   \n",
       "7        M7A  Downtown Toronto\\n   \n",
       "\n",
       "                                    Neighborhood  \n",
       "3                                    Parkwoods\\n  \n",
       "4                             Victoria Village\\n  \n",
       "5                    Regent Park, Harbourfront\\n  \n",
       "6             Lawrence Manor, Lawrence Heights\\n  \n",
       "7  Queen's Park, Ontario Provincial Government\\n  "
      ]
     },
     "execution_count": 16,
     "metadata": {},
     "output_type": "execute_result"
    }
   ],
   "source": [
    "df_new.head()"
   ]
  },
  {
   "cell_type": "code",
   "execution_count": 17,
   "metadata": {},
   "outputs": [],
   "source": [
    "df_new['Borough'] = df_new['Borough'].str.replace(r'\\n', '')"
   ]
  },
  {
   "cell_type": "code",
   "execution_count": 18,
   "metadata": {},
   "outputs": [
    {
     "data": {
      "text/html": [
       "<div>\n",
       "<style scoped>\n",
       "    .dataframe tbody tr th:only-of-type {\n",
       "        vertical-align: middle;\n",
       "    }\n",
       "\n",
       "    .dataframe tbody tr th {\n",
       "        vertical-align: top;\n",
       "    }\n",
       "\n",
       "    .dataframe thead th {\n",
       "        text-align: right;\n",
       "    }\n",
       "</style>\n",
       "<table border=\"1\" class=\"dataframe\">\n",
       "  <thead>\n",
       "    <tr style=\"text-align: right;\">\n",
       "      <th></th>\n",
       "      <th>PostalCode</th>\n",
       "      <th>Borough</th>\n",
       "      <th>Neighborhood</th>\n",
       "    </tr>\n",
       "  </thead>\n",
       "  <tbody>\n",
       "    <tr>\n",
       "      <td>3</td>\n",
       "      <td>M3A</td>\n",
       "      <td>North York</td>\n",
       "      <td>Parkwoods\\n</td>\n",
       "    </tr>\n",
       "    <tr>\n",
       "      <td>4</td>\n",
       "      <td>M4A</td>\n",
       "      <td>North York</td>\n",
       "      <td>Victoria Village\\n</td>\n",
       "    </tr>\n",
       "    <tr>\n",
       "      <td>5</td>\n",
       "      <td>M5A</td>\n",
       "      <td>Downtown Toronto</td>\n",
       "      <td>Regent Park, Harbourfront\\n</td>\n",
       "    </tr>\n",
       "    <tr>\n",
       "      <td>6</td>\n",
       "      <td>M6A</td>\n",
       "      <td>North York</td>\n",
       "      <td>Lawrence Manor, Lawrence Heights\\n</td>\n",
       "    </tr>\n",
       "    <tr>\n",
       "      <td>7</td>\n",
       "      <td>M7A</td>\n",
       "      <td>Downtown Toronto</td>\n",
       "      <td>Queen's Park, Ontario Provincial Government\\n</td>\n",
       "    </tr>\n",
       "  </tbody>\n",
       "</table>\n",
       "</div>"
      ],
      "text/plain": [
       "  PostalCode           Borough                                   Neighborhood\n",
       "3        M3A        North York                                    Parkwoods\\n\n",
       "4        M4A        North York                             Victoria Village\\n\n",
       "5        M5A  Downtown Toronto                    Regent Park, Harbourfront\\n\n",
       "6        M6A        North York             Lawrence Manor, Lawrence Heights\\n\n",
       "7        M7A  Downtown Toronto  Queen's Park, Ontario Provincial Government\\n"
      ]
     },
     "execution_count": 18,
     "metadata": {},
     "output_type": "execute_result"
    }
   ],
   "source": [
    "df_new.head()"
   ]
  },
  {
   "cell_type": "code",
   "execution_count": 19,
   "metadata": {},
   "outputs": [],
   "source": [
    "df_new['Neighborhood'] = df_new['Neighborhood'].str.replace(r'\\n', '')"
   ]
  },
  {
   "cell_type": "code",
   "execution_count": 20,
   "metadata": {},
   "outputs": [
    {
     "data": {
      "text/html": [
       "<div>\n",
       "<style scoped>\n",
       "    .dataframe tbody tr th:only-of-type {\n",
       "        vertical-align: middle;\n",
       "    }\n",
       "\n",
       "    .dataframe tbody tr th {\n",
       "        vertical-align: top;\n",
       "    }\n",
       "\n",
       "    .dataframe thead th {\n",
       "        text-align: right;\n",
       "    }\n",
       "</style>\n",
       "<table border=\"1\" class=\"dataframe\">\n",
       "  <thead>\n",
       "    <tr style=\"text-align: right;\">\n",
       "      <th></th>\n",
       "      <th>PostalCode</th>\n",
       "      <th>Borough</th>\n",
       "      <th>Neighborhood</th>\n",
       "    </tr>\n",
       "  </thead>\n",
       "  <tbody>\n",
       "    <tr>\n",
       "      <td>3</td>\n",
       "      <td>M3A</td>\n",
       "      <td>North York</td>\n",
       "      <td>Parkwoods</td>\n",
       "    </tr>\n",
       "    <tr>\n",
       "      <td>4</td>\n",
       "      <td>M4A</td>\n",
       "      <td>North York</td>\n",
       "      <td>Victoria Village</td>\n",
       "    </tr>\n",
       "    <tr>\n",
       "      <td>5</td>\n",
       "      <td>M5A</td>\n",
       "      <td>Downtown Toronto</td>\n",
       "      <td>Regent Park, Harbourfront</td>\n",
       "    </tr>\n",
       "    <tr>\n",
       "      <td>6</td>\n",
       "      <td>M6A</td>\n",
       "      <td>North York</td>\n",
       "      <td>Lawrence Manor, Lawrence Heights</td>\n",
       "    </tr>\n",
       "    <tr>\n",
       "      <td>7</td>\n",
       "      <td>M7A</td>\n",
       "      <td>Downtown Toronto</td>\n",
       "      <td>Queen's Park, Ontario Provincial Government</td>\n",
       "    </tr>\n",
       "    <tr>\n",
       "      <td>...</td>\n",
       "      <td>...</td>\n",
       "      <td>...</td>\n",
       "      <td>...</td>\n",
       "    </tr>\n",
       "    <tr>\n",
       "      <td>161</td>\n",
       "      <td>M8X</td>\n",
       "      <td>Etobicoke</td>\n",
       "      <td>The Kingsway, Montgomery Road, Old Mill North</td>\n",
       "    </tr>\n",
       "    <tr>\n",
       "      <td>166</td>\n",
       "      <td>M4Y</td>\n",
       "      <td>Downtown Toronto</td>\n",
       "      <td>Church and Wellesley</td>\n",
       "    </tr>\n",
       "    <tr>\n",
       "      <td>169</td>\n",
       "      <td>M7Y</td>\n",
       "      <td>East Toronto</td>\n",
       "      <td>Business reply mail Processing Centre, South C...</td>\n",
       "    </tr>\n",
       "    <tr>\n",
       "      <td>170</td>\n",
       "      <td>M8Y</td>\n",
       "      <td>Etobicoke</td>\n",
       "      <td>Old Mill South, King's Mill Park, Sunnylea, Hu...</td>\n",
       "    </tr>\n",
       "    <tr>\n",
       "      <td>179</td>\n",
       "      <td>M8Z</td>\n",
       "      <td>Etobicoke</td>\n",
       "      <td>Mimico NW, The Queensway West, South of Bloor,...</td>\n",
       "    </tr>\n",
       "  </tbody>\n",
       "</table>\n",
       "<p>103 rows × 3 columns</p>\n",
       "</div>"
      ],
      "text/plain": [
       "    PostalCode           Borough  \\\n",
       "3          M3A        North York   \n",
       "4          M4A        North York   \n",
       "5          M5A  Downtown Toronto   \n",
       "6          M6A        North York   \n",
       "7          M7A  Downtown Toronto   \n",
       "..         ...               ...   \n",
       "161        M8X         Etobicoke   \n",
       "166        M4Y  Downtown Toronto   \n",
       "169        M7Y      East Toronto   \n",
       "170        M8Y         Etobicoke   \n",
       "179        M8Z         Etobicoke   \n",
       "\n",
       "                                          Neighborhood  \n",
       "3                                            Parkwoods  \n",
       "4                                     Victoria Village  \n",
       "5                            Regent Park, Harbourfront  \n",
       "6                     Lawrence Manor, Lawrence Heights  \n",
       "7          Queen's Park, Ontario Provincial Government  \n",
       "..                                                 ...  \n",
       "161      The Kingsway, Montgomery Road, Old Mill North  \n",
       "166                               Church and Wellesley  \n",
       "169  Business reply mail Processing Centre, South C...  \n",
       "170  Old Mill South, King's Mill Park, Sunnylea, Hu...  \n",
       "179  Mimico NW, The Queensway West, South of Bloor,...  \n",
       "\n",
       "[103 rows x 3 columns]"
      ]
     },
     "execution_count": 20,
     "metadata": {},
     "output_type": "execute_result"
    }
   ],
   "source": [
    "df_new"
   ]
  },
  {
   "cell_type": "code",
   "execution_count": 21,
   "metadata": {},
   "outputs": [
    {
     "data": {
      "text/plain": [
       "True"
      ]
     },
     "execution_count": 21,
     "metadata": {},
     "output_type": "execute_result"
    }
   ],
   "source": [
    "'M5G' in df_new['PostalCode'].values"
   ]
  },
  {
   "cell_type": "code",
   "execution_count": 22,
   "metadata": {},
   "outputs": [
    {
     "data": {
      "text/plain": [
       "(103, 3)"
      ]
     },
     "execution_count": 22,
     "metadata": {},
     "output_type": "execute_result"
    }
   ],
   "source": [
    "df_new.shape"
   ]
  },
  {
   "cell_type": "code",
   "execution_count": 23,
   "metadata": {},
   "outputs": [
    {
     "data": {
      "text/html": [
       "<div>\n",
       "<style scoped>\n",
       "    .dataframe tbody tr th:only-of-type {\n",
       "        vertical-align: middle;\n",
       "    }\n",
       "\n",
       "    .dataframe tbody tr th {\n",
       "        vertical-align: top;\n",
       "    }\n",
       "\n",
       "    .dataframe thead th {\n",
       "        text-align: right;\n",
       "    }\n",
       "</style>\n",
       "<table border=\"1\" class=\"dataframe\">\n",
       "  <thead>\n",
       "    <tr style=\"text-align: right;\">\n",
       "      <th></th>\n",
       "      <th>PostalCode</th>\n",
       "      <th>Borough</th>\n",
       "      <th>Neighborhood</th>\n",
       "    </tr>\n",
       "  </thead>\n",
       "  <tbody>\n",
       "    <tr>\n",
       "      <td>41</td>\n",
       "      <td>M5G</td>\n",
       "      <td>Downtown Toronto</td>\n",
       "      <td>Central Bay Street</td>\n",
       "    </tr>\n",
       "  </tbody>\n",
       "</table>\n",
       "</div>"
      ],
      "text/plain": [
       "   PostalCode           Borough        Neighborhood\n",
       "41        M5G  Downtown Toronto  Central Bay Street"
      ]
     },
     "execution_count": 23,
     "metadata": {},
     "output_type": "execute_result"
    }
   ],
   "source": [
    "df_new[df_new['PostalCode'] == 'M5G']"
   ]
  },
  {
   "cell_type": "code",
   "execution_count": 24,
   "metadata": {},
   "outputs": [],
   "source": [
    "data = pd.read_csv('Geospatial_Coordinates.csv')"
   ]
  },
  {
   "cell_type": "code",
   "execution_count": 25,
   "metadata": {},
   "outputs": [],
   "source": [
    "df_new = df_new.rename(columns={'PostalCode' : 'Postal Code'})"
   ]
  },
  {
   "cell_type": "code",
   "execution_count": 26,
   "metadata": {},
   "outputs": [],
   "source": [
    "final_df = pd.merge(df_new, data, on='Postal Code')"
   ]
  },
  {
   "cell_type": "code",
   "execution_count": 27,
   "metadata": {},
   "outputs": [
    {
     "data": {
      "text/html": [
       "<div>\n",
       "<style scoped>\n",
       "    .dataframe tbody tr th:only-of-type {\n",
       "        vertical-align: middle;\n",
       "    }\n",
       "\n",
       "    .dataframe tbody tr th {\n",
       "        vertical-align: top;\n",
       "    }\n",
       "\n",
       "    .dataframe thead th {\n",
       "        text-align: right;\n",
       "    }\n",
       "</style>\n",
       "<table border=\"1\" class=\"dataframe\">\n",
       "  <thead>\n",
       "    <tr style=\"text-align: right;\">\n",
       "      <th></th>\n",
       "      <th>Postal Code</th>\n",
       "      <th>Borough</th>\n",
       "      <th>Neighborhood</th>\n",
       "      <th>Latitude</th>\n",
       "      <th>Longitude</th>\n",
       "    </tr>\n",
       "  </thead>\n",
       "  <tbody>\n",
       "    <tr>\n",
       "      <td>0</td>\n",
       "      <td>M3A</td>\n",
       "      <td>North York</td>\n",
       "      <td>Parkwoods</td>\n",
       "      <td>43.753259</td>\n",
       "      <td>-79.329656</td>\n",
       "    </tr>\n",
       "    <tr>\n",
       "      <td>1</td>\n",
       "      <td>M4A</td>\n",
       "      <td>North York</td>\n",
       "      <td>Victoria Village</td>\n",
       "      <td>43.725882</td>\n",
       "      <td>-79.315572</td>\n",
       "    </tr>\n",
       "    <tr>\n",
       "      <td>2</td>\n",
       "      <td>M5A</td>\n",
       "      <td>Downtown Toronto</td>\n",
       "      <td>Regent Park, Harbourfront</td>\n",
       "      <td>43.654260</td>\n",
       "      <td>-79.360636</td>\n",
       "    </tr>\n",
       "    <tr>\n",
       "      <td>3</td>\n",
       "      <td>M6A</td>\n",
       "      <td>North York</td>\n",
       "      <td>Lawrence Manor, Lawrence Heights</td>\n",
       "      <td>43.718518</td>\n",
       "      <td>-79.464763</td>\n",
       "    </tr>\n",
       "    <tr>\n",
       "      <td>4</td>\n",
       "      <td>M7A</td>\n",
       "      <td>Downtown Toronto</td>\n",
       "      <td>Queen's Park, Ontario Provincial Government</td>\n",
       "      <td>43.662301</td>\n",
       "      <td>-79.389494</td>\n",
       "    </tr>\n",
       "  </tbody>\n",
       "</table>\n",
       "</div>"
      ],
      "text/plain": [
       "  Postal Code           Borough                                 Neighborhood  \\\n",
       "0         M3A        North York                                    Parkwoods   \n",
       "1         M4A        North York                             Victoria Village   \n",
       "2         M5A  Downtown Toronto                    Regent Park, Harbourfront   \n",
       "3         M6A        North York             Lawrence Manor, Lawrence Heights   \n",
       "4         M7A  Downtown Toronto  Queen's Park, Ontario Provincial Government   \n",
       "\n",
       "    Latitude  Longitude  \n",
       "0  43.753259 -79.329656  \n",
       "1  43.725882 -79.315572  \n",
       "2  43.654260 -79.360636  \n",
       "3  43.718518 -79.464763  \n",
       "4  43.662301 -79.389494  "
      ]
     },
     "execution_count": 27,
     "metadata": {},
     "output_type": "execute_result"
    }
   ],
   "source": [
    "final_df.head()"
   ]
  },
  {
   "cell_type": "code",
   "execution_count": 28,
   "metadata": {},
   "outputs": [
    {
     "data": {
      "text/plain": [
       "103"
      ]
     },
     "execution_count": 28,
     "metadata": {},
     "output_type": "execute_result"
    }
   ],
   "source": [
    "final_df.shape[0]"
   ]
  },
  {
   "cell_type": "code",
   "execution_count": 29,
   "metadata": {},
   "outputs": [
    {
     "data": {
      "text/plain": [
       "array(['North York', 'Downtown Toronto', 'Etobicoke', 'Scarborough',\n",
       "       'East York', 'York', 'East Toronto', 'West Toronto',\n",
       "       'Central Toronto', 'Mississauga'], dtype=object)"
      ]
     },
     "execution_count": 29,
     "metadata": {},
     "output_type": "execute_result"
    }
   ],
   "source": [
    "final_df['Borough'].unique()"
   ]
  },
  {
   "cell_type": "code",
   "execution_count": 30,
   "metadata": {},
   "outputs": [],
   "source": [
    "Toronto_df = final_df"
   ]
  },
  {
   "cell_type": "code",
   "execution_count": 31,
   "metadata": {},
   "outputs": [
    {
     "data": {
      "text/html": [
       "<div>\n",
       "<style scoped>\n",
       "    .dataframe tbody tr th:only-of-type {\n",
       "        vertical-align: middle;\n",
       "    }\n",
       "\n",
       "    .dataframe tbody tr th {\n",
       "        vertical-align: top;\n",
       "    }\n",
       "\n",
       "    .dataframe thead th {\n",
       "        text-align: right;\n",
       "    }\n",
       "</style>\n",
       "<table border=\"1\" class=\"dataframe\">\n",
       "  <thead>\n",
       "    <tr style=\"text-align: right;\">\n",
       "      <th></th>\n",
       "      <th>Postal Code</th>\n",
       "      <th>Borough</th>\n",
       "      <th>Neighborhood</th>\n",
       "      <th>Latitude</th>\n",
       "      <th>Longitude</th>\n",
       "    </tr>\n",
       "  </thead>\n",
       "  <tbody>\n",
       "    <tr>\n",
       "      <td>0</td>\n",
       "      <td>M3A</td>\n",
       "      <td>North York</td>\n",
       "      <td>Parkwoods</td>\n",
       "      <td>43.753259</td>\n",
       "      <td>-79.329656</td>\n",
       "    </tr>\n",
       "    <tr>\n",
       "      <td>1</td>\n",
       "      <td>M4A</td>\n",
       "      <td>North York</td>\n",
       "      <td>Victoria Village</td>\n",
       "      <td>43.725882</td>\n",
       "      <td>-79.315572</td>\n",
       "    </tr>\n",
       "    <tr>\n",
       "      <td>2</td>\n",
       "      <td>M5A</td>\n",
       "      <td>Downtown Toronto</td>\n",
       "      <td>Regent Park, Harbourfront</td>\n",
       "      <td>43.654260</td>\n",
       "      <td>-79.360636</td>\n",
       "    </tr>\n",
       "    <tr>\n",
       "      <td>3</td>\n",
       "      <td>M6A</td>\n",
       "      <td>North York</td>\n",
       "      <td>Lawrence Manor, Lawrence Heights</td>\n",
       "      <td>43.718518</td>\n",
       "      <td>-79.464763</td>\n",
       "    </tr>\n",
       "    <tr>\n",
       "      <td>4</td>\n",
       "      <td>M7A</td>\n",
       "      <td>Downtown Toronto</td>\n",
       "      <td>Queen's Park, Ontario Provincial Government</td>\n",
       "      <td>43.662301</td>\n",
       "      <td>-79.389494</td>\n",
       "    </tr>\n",
       "  </tbody>\n",
       "</table>\n",
       "</div>"
      ],
      "text/plain": [
       "  Postal Code           Borough                                 Neighborhood  \\\n",
       "0         M3A        North York                                    Parkwoods   \n",
       "1         M4A        North York                             Victoria Village   \n",
       "2         M5A  Downtown Toronto                    Regent Park, Harbourfront   \n",
       "3         M6A        North York             Lawrence Manor, Lawrence Heights   \n",
       "4         M7A  Downtown Toronto  Queen's Park, Ontario Provincial Government   \n",
       "\n",
       "    Latitude  Longitude  \n",
       "0  43.753259 -79.329656  \n",
       "1  43.725882 -79.315572  \n",
       "2  43.654260 -79.360636  \n",
       "3  43.718518 -79.464763  \n",
       "4  43.662301 -79.389494  "
      ]
     },
     "execution_count": 31,
     "metadata": {},
     "output_type": "execute_result"
    }
   ],
   "source": [
    "Toronto_df.head()"
   ]
  },
  {
   "cell_type": "code",
   "execution_count": 32,
   "metadata": {},
   "outputs": [
    {
     "data": {
      "text/plain": [
       "10"
      ]
     },
     "execution_count": 32,
     "metadata": {},
     "output_type": "execute_result"
    }
   ],
   "source": [
    "len(Toronto_df['Borough'].unique())"
   ]
  },
  {
   "cell_type": "code",
   "execution_count": 33,
   "metadata": {},
   "outputs": [],
   "source": [
    "Toronto_df = Toronto_df.drop('Postal Code', axis=1)"
   ]
  },
  {
   "cell_type": "code",
   "execution_count": 34,
   "metadata": {},
   "outputs": [
    {
     "data": {
      "text/html": [
       "<div>\n",
       "<style scoped>\n",
       "    .dataframe tbody tr th:only-of-type {\n",
       "        vertical-align: middle;\n",
       "    }\n",
       "\n",
       "    .dataframe tbody tr th {\n",
       "        vertical-align: top;\n",
       "    }\n",
       "\n",
       "    .dataframe thead th {\n",
       "        text-align: right;\n",
       "    }\n",
       "</style>\n",
       "<table border=\"1\" class=\"dataframe\">\n",
       "  <thead>\n",
       "    <tr style=\"text-align: right;\">\n",
       "      <th></th>\n",
       "      <th>Borough</th>\n",
       "      <th>Neighborhood</th>\n",
       "      <th>Latitude</th>\n",
       "      <th>Longitude</th>\n",
       "    </tr>\n",
       "  </thead>\n",
       "  <tbody>\n",
       "    <tr>\n",
       "      <td>0</td>\n",
       "      <td>North York</td>\n",
       "      <td>Parkwoods</td>\n",
       "      <td>43.753259</td>\n",
       "      <td>-79.329656</td>\n",
       "    </tr>\n",
       "    <tr>\n",
       "      <td>1</td>\n",
       "      <td>North York</td>\n",
       "      <td>Victoria Village</td>\n",
       "      <td>43.725882</td>\n",
       "      <td>-79.315572</td>\n",
       "    </tr>\n",
       "    <tr>\n",
       "      <td>2</td>\n",
       "      <td>Downtown Toronto</td>\n",
       "      <td>Regent Park, Harbourfront</td>\n",
       "      <td>43.654260</td>\n",
       "      <td>-79.360636</td>\n",
       "    </tr>\n",
       "    <tr>\n",
       "      <td>3</td>\n",
       "      <td>North York</td>\n",
       "      <td>Lawrence Manor, Lawrence Heights</td>\n",
       "      <td>43.718518</td>\n",
       "      <td>-79.464763</td>\n",
       "    </tr>\n",
       "    <tr>\n",
       "      <td>4</td>\n",
       "      <td>Downtown Toronto</td>\n",
       "      <td>Queen's Park, Ontario Provincial Government</td>\n",
       "      <td>43.662301</td>\n",
       "      <td>-79.389494</td>\n",
       "    </tr>\n",
       "  </tbody>\n",
       "</table>\n",
       "</div>"
      ],
      "text/plain": [
       "            Borough                                 Neighborhood   Latitude  \\\n",
       "0        North York                                    Parkwoods  43.753259   \n",
       "1        North York                             Victoria Village  43.725882   \n",
       "2  Downtown Toronto                    Regent Park, Harbourfront  43.654260   \n",
       "3        North York             Lawrence Manor, Lawrence Heights  43.718518   \n",
       "4  Downtown Toronto  Queen's Park, Ontario Provincial Government  43.662301   \n",
       "\n",
       "   Longitude  \n",
       "0 -79.329656  \n",
       "1 -79.315572  \n",
       "2 -79.360636  \n",
       "3 -79.464763  \n",
       "4 -79.389494  "
      ]
     },
     "execution_count": 34,
     "metadata": {},
     "output_type": "execute_result"
    }
   ],
   "source": [
    "Toronto_df.head()"
   ]
  },
  {
   "cell_type": "code",
   "execution_count": 171,
   "metadata": {},
   "outputs": [
    {
     "name": "stdout",
     "output_type": "stream",
     "text": [
      "Collecting geopy\n",
      "  Downloading https://files.pythonhosted.org/packages/07/e1/9c72de674d5c2b8fcb0738a5ceeb5424941fefa080bfe4e240d0bacb5a38/geopy-2.0.0-py3-none-any.whl (111kB)\n",
      "Collecting geographiclib<2,>=1.49 (from geopy)\n",
      "  Downloading https://files.pythonhosted.org/packages/8b/62/26ec95a98ba64299163199e95ad1b0e34ad3f4e176e221c40245f211e425/geographiclib-1.50-py3-none-any.whl\n",
      "Installing collected packages: geographiclib, geopy\n",
      "Successfully installed geographiclib-1.50 geopy-2.0.0\n",
      "Note: you may need to restart the kernel to use updated packages.\n"
     ]
    }
   ],
   "source": [
    "pip install geopy"
   ]
  },
  {
   "cell_type": "code",
   "execution_count": 38,
   "metadata": {},
   "outputs": [
    {
     "name": "stdout",
     "output_type": "stream",
     "text": [
      "The geograpical coordinate of Toronto are 43.6534817, -79.3839347.\n"
     ]
    }
   ],
   "source": [
    "import geopy\n",
    "from geopy.geocoders import Nominatim\n",
    "address = 'Toronto'\n",
    "\n",
    "geolocator = Nominatim(user_agent=\"to_explorer\")\n",
    "location = geolocator.geocode(address)\n",
    "latitude = location.latitude\n",
    "longitude = location.longitude\n",
    "print('The geograpical coordinate of Toronto are {}, {}.'.format(latitude, longitude))"
   ]
  },
  {
   "cell_type": "code",
   "execution_count": 40,
   "metadata": {},
   "outputs": [
    {
     "name": "stdout",
     "output_type": "stream",
     "text": [
      "Collecting folium\n",
      "  Downloading https://files.pythonhosted.org/packages/a4/f0/44e69d50519880287cc41e7c8a6acc58daa9a9acf5f6afc52bcc70f69a6d/folium-0.11.0-py2.py3-none-any.whl (93kB)\n",
      "Requirement already satisfied: requests in c:\\programdata\\anaconda3\\lib\\site-packages (from folium) (2.22.0)\n",
      "Requirement already satisfied: numpy in c:\\programdata\\anaconda3\\lib\\site-packages (from folium) (1.16.5)\n",
      "Requirement already satisfied: jinja2>=2.9 in c:\\programdata\\anaconda3\\lib\\site-packages (from folium) (2.10.3)\n",
      "Collecting branca>=0.3.0 (from folium)\n",
      "  Downloading https://files.pythonhosted.org/packages/13/fb/9eacc24ba3216510c6b59a4ea1cd53d87f25ba76237d7f4393abeaf4c94e/branca-0.4.1-py3-none-any.whl\n",
      "Requirement already satisfied: certifi>=2017.4.17 in c:\\programdata\\anaconda3\\lib\\site-packages (from requests->folium) (2019.9.11)\n",
      "Requirement already satisfied: idna<2.9,>=2.5 in c:\\programdata\\anaconda3\\lib\\site-packages (from requests->folium) (2.8)\n",
      "Requirement already satisfied: urllib3!=1.25.0,!=1.25.1,<1.26,>=1.21.1 in c:\\programdata\\anaconda3\\lib\\site-packages (from requests->folium) (1.24.2)\n",
      "Requirement already satisfied: chardet<3.1.0,>=3.0.2 in c:\\programdata\\anaconda3\\lib\\site-packages (from requests->folium) (3.0.4)\n",
      "Requirement already satisfied: MarkupSafe>=0.23 in c:\\programdata\\anaconda3\\lib\\site-packages (from jinja2>=2.9->folium) (1.1.1)\n",
      "Installing collected packages: branca, folium\n",
      "Successfully installed branca-0.4.1 folium-0.11.0\n",
      "Note: you may need to restart the kernel to use updated packages.\n"
     ]
    }
   ],
   "source": [
    "pip install folium"
   ]
  },
  {
   "cell_type": "code",
   "execution_count": 43,
   "metadata": {},
   "outputs": [
    {
     "data": {
      "text/html": [
       "<div style=\"width:100%;\"><div style=\"position:relative;width:100%;height:0;padding-bottom:60%;\"><span style=\"color:#565656\">Make this Notebook Trusted to load map: File -> Trust Notebook</span><iframe src=\"about:blank\" style=\"position:absolute;width:100%;height:100%;left:0;top:0;border:none !important;\" data-html=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 onload=\"this.contentDocument.open();this.contentDocument.write(atob(this.getAttribute('data-html')));this.contentDocument.close();\" allowfullscreen webkitallowfullscreen mozallowfullscreen></iframe></div></div>"
      ],
      "text/plain": [
       "<folium.folium.Map at 0x267d8cda648>"
      ]
     },
     "execution_count": 43,
     "metadata": {},
     "output_type": "execute_result"
    }
   ],
   "source": [
    "import folium\n",
    "map_newyork = folium.Map(location=[latitude, longitude], zoom_start=10)\n",
    "\n",
    "# add markers to map\n",
    "for lat, lng, borough, neighborhood in zip(Toronto_df['Latitude'], Toronto_df['Longitude'], Toronto_df['Borough'], Toronto_df['Neighborhood']):\n",
    "    label = '{}, {}'.format(neighborhood, borough)\n",
    "    label = folium.Popup(label, parse_html=True)\n",
    "    folium.CircleMarker(\n",
    "        [lat, lng],\n",
    "        radius=5,\n",
    "        popup=label,\n",
    "        color='blue',\n",
    "        fill=True,\n",
    "        fill_color='#3186cc',\n",
    "        fill_opacity=0.7,\n",
    "        parse_html=False).add_to(map_newyork)  \n",
    "    \n",
    "map_newyork"
   ]
  },
  {
   "cell_type": "code",
   "execution_count": null,
   "metadata": {},
   "outputs": [],
   "source": []
  }
 ],
 "metadata": {
  "kernelspec": {
   "display_name": "Python 3",
   "language": "python",
   "name": "python3"
  },
  "language_info": {
   "codemirror_mode": {
    "name": "ipython",
    "version": 3
   },
   "file_extension": ".py",
   "mimetype": "text/x-python",
   "name": "python",
   "nbconvert_exporter": "python",
   "pygments_lexer": "ipython3",
   "version": "3.7.4"
  }
 },
 "nbformat": 4,
 "nbformat_minor": 4
}
